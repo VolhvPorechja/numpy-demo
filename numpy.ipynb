{
 "cells": [
  {
   "cell_type": "markdown",
   "source": [
    "Agenda:\n",
    "1. Основы numpy + задания\n",
    "2. Основы работы с графиками в matplotlib, seaborn, plotly + задания\n",
    "3. Использование numpy в решении задач линейной алгебры + задания\n",
    "4. Использование numpy в решении задач по статистике и теории вероятности + задания\n",
    "5. Использование numpy в обработке изображений\n",
    "6. Небольшое дэмо nupmy в работе с цифровым сигналом и бонусное задание"
   ],
   "metadata": {
    "collapsed": false
   }
  },
  {
   "cell_type": "code",
   "source": [
    "import numpy as np\n",
    "import matplotlib.pyplot as plt\n",
    "import matplotlib.gridspec as gridspec\n",
    "\n",
    "import plotly.graph_objects as go\n",
    "import plotly.express as px\n",
    "\n",
    "%matplotlib inline\n",
    "\n",
    "import seaborn as sns\n",
    "\n",
    "import pandas as pd\n",
    "\n",
    "from scipy.signal import convolve2d\n",
    "\n",
    "from PIL import Image\n",
    "from IPython.display import Image as IPImage\n",
    "from IPython.display import Audio as IPAudio"
   ],
   "metadata": {
    "collapsed": false
   },
   "outputs": [],
   "execution_count": null
  },
  {
   "cell_type": "markdown",
   "source": [
    "## Основы numpy"
   ],
   "metadata": {
    "collapsed": false
   }
  },
  {
   "cell_type": "markdown",
   "source": [
    "### Какие пакеты содержит numpy\n",
    "\n",
    "1. **`numpy.core`**:\n",
    "    - Ядро NumPy, содержит основные функции и классы для работы с многомерными массивами, включая сам объект массива `ndarray`.\n",
    "2. **`numpy.lib`**:\n",
    "    - Библиотека полезных инструментов и функций, включая функции для индексирования, математических операций, форматирования и многое другое.\n",
    "3. **`numpy.fft`**:\n",
    "    - Подпакет для выполнения быстрого преобразования Фурье.\n",
    "4. **`numpy.linalg`**:\n",
    "    - Подпакет для поддержки линейной алгебры, включая решение систем линейных уравнений, нахождение собственных значений и векторов, вычисление разложений матриц и другие подобные операции.\n",
    "5. **`numpy.random`**:\n",
    "    - Подпакет для генерации случайных чисел и выполнения операций с вероятностными распределениями.\n",
    "6. **`numpy.ma`**:\n",
    "    - Подпакет для работы с маскированными массивами, позволяющий обрабатывать данные с отсутствующими или невалидными значениями.\n",
    "7. **`numpy.matlib`**:\n",
    "    - Подпакет, предоставляющий функции для создания и работы с матрицами.\n",
    "8. **`numpy.polynomial`**:\n",
    "    - Подпакет для работы с полиномами, включая их создание, манипуляции, вычисление корней и другие операции.\n",
    "9. **`numpy.testing`**:\n",
    "    - Инструменты для тестирования кода, использующего NumPy, обеспечивающие поддержку утверждений и сравнений массивов.\n",
    "10. **`numpy.f2py`**:\n",
    "    - Модуль, позволяющий интегрировать Fortran код с Python, используя NumPy для организации данных."
   ],
   "metadata": {
    "collapsed": false
   }
  },
  {
   "cell_type": "markdown",
   "source": [
    "### ndarray"
   ],
   "metadata": {
    "collapsed": false
   }
  },
  {
   "cell_type": "markdown",
   "source": [
    "\n",
    "ndarray - специальный класс библиотеки numpy хранящий значения однородного типа.\n",
    "\n",
    "структура ndarray состоит из четырех полей:\n",
    "\n",
    "Data pointer: Указатель на первый байт в массиве, хранящем данные в памяти.\n",
    "\n",
    "Shape: tuple который хранит размер ndarray во всех его измерениях. Например, для 2D массива с 5 строками и 3 колонками `(5, 3)`.\n",
    "\n",
    "Dtype: Тип данных хранящихся в пямяти ndarray. Все элементы строго однотипные.\n",
    "\n",
    "Strides: tuple который описывает на сколько байтов нужно сместиться, чтобы получить элемент из следующего измерения. Например, если у нас 2D массив и dtype=int64 (8B для каждого значения) и shape=(3, 4), то может быть следующего вида (зависит от того как организована память в рантайме) strides=(32, 8) что значит что чтобы перейти к следующей 0й оси, нам нужно сметиться на 4*8=32 байта, а чтобы перейти к следующей 1й оси, нам нужно сместиться на 8 байт.\n",
    "\n",
    "Сам объект под капотом выглядит следующим образом\n",
    "```\n",
    "+--------+--------+--------+--------+\n",
    "|  Data  | Dtype  | Shape  | Strides|\n",
    "+--------+--------+--------+--------+\n",
    "     |\n",
    "     v\n",
    "+--------+--------+--------+--------+--------+--------+...\n",
    "| byte 0 | byte 1 | byte 2 | byte 3 | byte 4 | byte 5 |...\n",
    "+--------+--------+--------+--------+--------+--------+...\n",
    "```\n",
    "\n",
    "ndarray всегда хранит элементы в непрерывном блоке памяти, что дает большие преимущества при оптимизации работы с однотипными данными."
   ],
   "metadata": {
    "collapsed": false
   }
  },
  {
   "cell_type": "code",
   "source": [
    "l1 = [1, 2, 3]\n",
    "x = np.array(l1, dtype=np.int16)\n",
    "x"
   ],
   "metadata": {
    "collapsed": false
   },
   "outputs": [],
   "execution_count": null
  },
  {
   "cell_type": "markdown",
   "source": [
    "Основные типы: https://numpy.org/devdocs/user/basics.types.html\n",
    "\n",
    "NumPy dtype параметр позволят определить тип данных хранящихся в ndarray.\n",
    "\n",
    "Integer:\n",
    "    int8, int16, int32, int64: Signed integer types that can represent negative numbers.\n",
    "    uint8, uint16, uint32, uint64: Unsigned (non-negative) integer types.\n",
    "\n",
    "Floating-Point:\n",
    "    float16, float32, float64: Floating point types that can represent real numbers.\n",
    "\n",
    "Complex Number:\n",
    "    complex64, complex128: Types that can represent complex numbers.\n",
    "\n",
    "Boolean:\n",
    "    bool: Type that can represent True and False.\n",
    "\n",
    "String:\n",
    "    string_: Type that can represent string data.\n",
    "\n",
    "Object:\n",
    "    object: Type that can represent Python objects.\n",
    "\n",
    "Datetime:\n",
    "    datetime64: Type that can represent date and time.\n",
    "\n",
    "Timedelta:\n",
    "    timedelta64: Type that can represent a duration.\n",
    "\n",
    "Стоит помнить что выбранный тип данных влияет на то сколько он будет занимать место в памяти"
   ],
   "metadata": {
    "collapsed": false
   }
  },
  {
   "cell_type": "markdown",
   "source": [
    "### Основные параметры ndarray"
   ],
   "metadata": {
    "collapsed": false
   }
  },
  {
   "cell_type": "code",
   "source": [
    "x2 = np.array(\n",
    "    [[[1, 2], [4, 3], [7, 4]], [[2, 5], [9, 8], [7, 5]], [[1, 5], [3, 6], [0, 2]], [[9, 7], [6, 8], [9, 8]]],\n",
    "    np.int16)\n",
    "\n",
    "print('ndarray:\\n', x2)\n",
    "print('-' * 10)\n",
    "print('number of dimensions:', x2.ndim)\n",
    "print('shape:', x2.shape)\n",
    "print('dtype:', x2.dtype)\n",
    "print('size:', x2.size)\n",
    "print('number of bytes:', x2.nbytes)\n",
    "print('strides:', x2.strides)"
   ],
   "metadata": {
    "collapsed": false
   },
   "outputs": [],
   "execution_count": null
  },
  {
   "cell_type": "code",
   "source": [
    "IPImage(url='./mtrx.png', width=500)"
   ],
   "metadata": {
    "collapsed": false
   },
   "outputs": [],
   "execution_count": null
  },
  {
   "cell_type": "markdown",
   "source": [
    "## Slicing"
   ],
   "metadata": {
    "collapsed": false
   }
  },
  {
   "cell_type": "code",
   "source": [
    "x2[0], x2[1], x2[0][1]"
   ],
   "metadata": {
    "collapsed": false
   },
   "outputs": [],
   "execution_count": null
  },
  {
   "cell_type": "markdown",
   "source": [
    "### Генерация числовых последовательностей"
   ],
   "metadata": {
    "collapsed": false
   }
  },
  {
   "cell_type": "markdown",
   "source": [
    "Математическая функция как отображение — это правило, которое каждому элементу одного множества (называемого областью определения функции) ставит в соответствие ровно один элемент другого множества (называемого областью значений функции). \n",
    "\n",
    "### Определение\n",
    "Пусть есть два множества $ X $ и $ Y $. Функция $ f $ из множества $ X $ в множество $ Y $ — это правило, которое каждому элементу $ x $ из множества $ X $ ставит в соответствие уникальный элемент $ y $ из множества $ Y $. Это отображение записывается как:\n",
    "\n",
    "$$\n",
    "\\[ f: X \\rightarrow Y \\]\n",
    "$$\n",
    "\n",
    "где $ X $ — область определения функции, $ Y $ — область значений функции, а элемент $ y $, соответствующий элементу $ x $, обозначается как $ f(x) $."
   ],
   "metadata": {
    "collapsed": false
   }
  },
  {
   "cell_type": "code",
   "source": [
    "print(np.arange(0, 100, 2))"
   ],
   "metadata": {
    "collapsed": false
   },
   "outputs": [],
   "execution_count": null
  },
  {
   "cell_type": "code",
   "source": [
    "print(np.linspace(10, 200))"
   ],
   "metadata": {
    "collapsed": false
   },
   "outputs": [],
   "execution_count": null
  },
  {
   "cell_type": "code",
   "source": [
    "print(np.logspace(1, 10, num=10, base=2))"
   ],
   "metadata": {
    "collapsed": false
   },
   "outputs": [],
   "execution_count": null
  },
  {
   "cell_type": "markdown",
   "source": [
    "Функция geomspace предназначена для создания массивов с числами, распределёнными по геометрической прогрессии. Это особенно полезно в ситуациях, когда нужно равномерно охватить большой диапазон значений, что недостижимо при использовании обычного линейного распределения, доступного через функцию linspace."
   ],
   "metadata": {
    "collapsed": false
   }
  },
  {
   "cell_type": "code",
   "source": [
    "print(np.geomspace(1, 1000, num=4))"
   ],
   "metadata": {
    "collapsed": false
   },
   "outputs": [],
   "execution_count": null
  },
  {
   "cell_type": "markdown",
   "source": [
    "Функция meshgrid используется для создания прямоугольной сетки координат из двух одномерных массивов, представляющих значения по осям X и Y."
   ],
   "metadata": {
    "collapsed": false
   }
  },
  {
   "cell_type": "code",
   "source": [
    "x = np.linspace(1, 10, 10)\n",
    "y = np.linspace(1, 10, 10)\n",
    "\n",
    "xv, yv = np.meshgrid(x, y)\n",
    "print('xv:\\n', xv)\n",
    "print('yv:\\n', yv)"
   ],
   "metadata": {
    "collapsed": false
   },
   "outputs": [],
   "execution_count": null
  },
  {
   "cell_type": "markdown",
   "source": [
    "### Universal functions (ufuncs)"
   ],
   "metadata": {
    "collapsed": false
   }
  },
  {
   "cell_type": "markdown",
   "source": [
    "Universal functions (ufuncs) - функции которые применяются поэлементно к numpy массивам. Универсальными называются потому что применимы к массиву любой размерности. Ufuncs под капотом реализованы на чистом С, поэтому намного производительнее аналогичных нативных питоновских."
   ],
   "metadata": {
    "collapsed": false
   }
  },
  {
   "cell_type": "code",
   "source": [
    "x = np.linspace(1, 10, 10)\n",
    "x + 1"
   ],
   "metadata": {
    "collapsed": false
   },
   "outputs": [],
   "execution_count": null
  },
  {
   "cell_type": "code",
   "source": [
    "x = np.linspace(1, 10, 10)\n",
    "x % 5"
   ],
   "metadata": {
    "collapsed": false
   },
   "outputs": [],
   "execution_count": null
  },
  {
   "cell_type": "code",
   "source": [
    "a = np.array([1, 2, 3])\n",
    "b = np.array([4, 5, 6])\n",
    "\n",
    "print('Addition:', np.add(a, b), a + b)\n",
    "print('Multiplication:', np.multiply(a, b), a * b)\n",
    "print('Exponentiation:', np.power(a, b), a ** b)"
   ],
   "metadata": {
    "collapsed": false
   },
   "outputs": [],
   "execution_count": null
  },
  {
   "cell_type": "code",
   "source": [
    "x = np.array([0, np.pi / 2, np.pi])\n",
    "print('x:', x)\n",
    "print('sin(x):', np.sin(x))\n",
    "print('cos(x):', np.cos(x))\n",
    "print('tan(x):', np.tan(x))"
   ],
   "metadata": {
    "collapsed": false
   },
   "outputs": [],
   "execution_count": null
  },
  {
   "cell_type": "code",
   "source": [
    "a = np.array([1, 2, 3, 4, 5])\n",
    "print('Mean:', np.mean(a))\n",
    "print('Standard deviation:', np.std(a))\n",
    "print('Variance:', np.var(a))"
   ],
   "metadata": {
    "collapsed": false
   },
   "outputs": [],
   "execution_count": null
  },
  {
   "cell_type": "markdown",
   "source": [
    "### Broadcasting"
   ],
   "metadata": {
    "collapsed": false
   }
  },
  {
   "cell_type": "markdown",
   "source": [
    "[подробнее](https://numpy.org/doc/stable/user/basics.broadcasting.html)\n",
    "\n",
    "Broadcasting это набор правил который применяется для операций с массивами разной размерности.\n",
    "\n",
    "Первое, что происходит во время выполнения операций с разными массивами, их размерности сравниваются поэлементно с права на лево. Если размерности несравнимы (сравнимы - равны, либо одна из них равна 1), то применение операции не возможно.\n",
    "\n",
    "Например, (256, 256, 3) и (3) -> операция возможна, (256, 256, 3) и (100, 3) -> `ValueError: operands could not be broadcast together`\n",
    "\n",
    "Далее, для тех рамерностей которые меньше (то есть равны 1 или отсутствуют) произойдет броадкастинг."
   ],
   "metadata": {
    "collapsed": false
   }
  },
  {
   "cell_type": "code",
   "source": [
    "IPImage(url='https://numpy.org/doc/stable/_images/broadcasting_2.png')"
   ],
   "metadata": {
    "collapsed": false
   },
   "outputs": [],
   "execution_count": null
  },
  {
   "cell_type": "code",
   "source": [
    "IPImage(url='https://numpy.org/doc/stable/_images/broadcasting_4.png')"
   ],
   "metadata": {
    "collapsed": false
   },
   "outputs": [],
   "execution_count": null
  },
  {
   "cell_type": "code",
   "source": [
    "# Rule 1 example\n",
    "a = np.ones((3, 4))  # 2D array\n",
    "b = np.arange(4)  # 1D array\n",
    "print('a:\\n', a)\n",
    "print('b:\\n', b)\n",
    "\n",
    "print('a + b:\\n', a + b)\n",
    "\n",
    "print('-' * 10)\n",
    "\n",
    "a = np.arange(3)\n",
    "b = np.arange(3).reshape(-1, 1)\n",
    "\n",
    "print('a:\\n', a)\n",
    "print('b:\\n', b)\n",
    "\n",
    "a = np.ones((3, 3))\n",
    "b = np.ones((2))\n",
    "\n",
    "print('a:\\n', a)\n",
    "print('b:\\n', b)\n",
    "\n",
    "print('-' * 10)\n",
    "\n",
    "try:\n",
    "    print(a + b)\n",
    "except ValueError as e:\n",
    "    print(e)"
   ],
   "metadata": {
    "collapsed": false
   },
   "outputs": [],
   "execution_count": null
  },
  {
   "cell_type": "markdown",
   "source": [
    "### Задание"
   ],
   "metadata": {
    "collapsed": false
   }
  },
  {
   "cell_type": "markdown",
   "source": [
    "Сформировать два ndarray $X$ и $Y = f(X)$\n",
    "1. $X$ - множество размерностью 100 значений от 1 до 10, $f$: $x^{2}$\n",
    "2. $X$ - можнество от $0$ до $4\\pi$, $f$: $ctg(x)^{2}$"
   ],
   "metadata": {
    "collapsed": false
   }
  },
  {
   "cell_type": "markdown",
   "source": [
    "## Работа с матрицами"
   ],
   "metadata": {
    "collapsed": false
   }
  },
  {
   "cell_type": "markdown",
   "source": [
    "### Специальные функции для генерации матриц определенного вида"
   ],
   "metadata": {
    "collapsed": false
   }
  },
  {
   "cell_type": "markdown",
   "source": [
    "Нулевая матрица\n",
    "$$\n",
    "O\n",
    "$$"
   ],
   "metadata": {
    "collapsed": false
   }
  },
  {
   "cell_type": "code",
   "source": [
    "print(np.zeros((3, 3), np.uint8))"
   ],
   "metadata": {
    "collapsed": false
   },
   "outputs": [],
   "execution_count": null
  },
  {
   "cell_type": "markdown",
   "source": [
    "Единичная матрица (Идентификационная матрица) размерности 5\n",
    "$$\n",
    "I_5\n",
    "$$"
   ],
   "metadata": {
    "collapsed": false
   }
  },
  {
   "cell_type": "code",
   "source": [
    "print(np.identity(5, dtype=np.uint8))"
   ],
   "metadata": {
    "collapsed": false
   },
   "outputs": [],
   "execution_count": null
  },
  {
   "cell_type": "markdown",
   "source": [
    "Матрица единиц\n",
    "$$\n",
    "J_3\n",
    "$$"
   ],
   "metadata": {
    "collapsed": false
   }
  },
  {
   "cell_type": "code",
   "source": [
    "print(np.ones((3, 3)))"
   ],
   "metadata": {
    "collapsed": false
   },
   "outputs": [],
   "execution_count": null
  },
  {
   "cell_type": "markdown",
   "source": [
    "Матрица произвольных значений"
   ],
   "metadata": {
    "collapsed": false
   }
  },
  {
   "cell_type": "code",
   "source": [
    "print(np.full((3, 3), fill_value=3))"
   ],
   "metadata": {
    "collapsed": false
   },
   "outputs": [],
   "execution_count": null
  },
  {
   "cell_type": "code",
   "source": [
    "print(np.ones((3, 3)) * 3)"
   ],
   "metadata": {
    "collapsed": false
   },
   "outputs": [],
   "execution_count": null
  },
  {
   "cell_type": "code",
   "source": [
    "print(np.eye(5, 4, k=-1, dtype=np.uint8))"
   ],
   "metadata": {
    "collapsed": false
   },
   "outputs": [],
   "execution_count": null
  },
  {
   "cell_type": "markdown",
   "source": [
    "### Reshaping"
   ],
   "metadata": {
    "collapsed": false
   }
  },
  {
   "cell_type": "code",
   "source": [
    "# Create a 1D array with 9 elements\n",
    "a = np.array([1, 2, 3, 4, 5, 6, 7, 8, 9])\n",
    "print(f'Original Array:\\n{a}')\n",
    "\n",
    "# Reshape the 1D array to a 3x3 2D array\n",
    "b = a.reshape((3, 3))\n",
    "print(f'Reshaped Array:\\n{b}')"
   ],
   "metadata": {
    "collapsed": false
   },
   "outputs": [],
   "execution_count": null
  },
  {
   "cell_type": "code",
   "source": [
    "# Create a 1D array with 8 elements\n",
    "a = np.array([1, 2, 3, 4, 5, 6, 7, 8])\n",
    "print(f'Original Array:\\n{a}')\n",
    "\n",
    "# Reshape the 1D array to a 2D array with 4 rows (and infer the number of columns)\n",
    "print(f'Reshaped Array:\\n{a.reshape((4, -1))}')\n",
    "print(f'Reshaped Array:\\n{a.reshape((2, -1))}')"
   ],
   "metadata": {
    "collapsed": false
   },
   "outputs": [],
   "execution_count": null
  },
  {
   "cell_type": "markdown",
   "source": [
    "### Получение верхней и нижней треугольных матриц\n",
    "\n",
    "$$\n",
    "   \\[\n",
    "   \\begin{bmatrix}\n",
    "   a & b & c \\\\\n",
    "   0 & d & e \\\\\n",
    "   0 & 0 & f \\\\\n",
    "   \\end{bmatrix}\n",
    "   \\]\n",
    "   \n",
    "   \\[\n",
    "   \\begin{bmatrix}\n",
    "   a & 0 & 0 \\\\\n",
    "   b & c & 0 \\\\\n",
    "   d & e & f \\\\\n",
    "   \\end{bmatrix}\n",
    "   \\]\n",
    "$$"
   ],
   "metadata": {
    "collapsed": false
   }
  },
  {
   "cell_type": "code",
   "source": [
    "x = np.full((5, 5), fill_value=5)\n",
    "lower = np.tril(x, k=-1)\n",
    "upper = np.triu(x, k=0)\n",
    "print('lower:\\n', lower)\n",
    "print('upper:\\n', upper)"
   ],
   "metadata": {
    "collapsed": false
   },
   "outputs": [],
   "execution_count": null
  },
  {
   "cell_type": "markdown",
   "source": [
    "### Конкатенация и разбиение матриц\n",
    "\n",
    "$$\n",
    "     \\[\n",
    "     A = \\begin{bmatrix} a_{11} & a_{12} \\\\ a_{21} & a_{22} \\end{bmatrix}, \\quad B = \\begin{bmatrix} b_{11} \\\\ b_{21} \\end{bmatrix}\n",
    "     \\]   \n",
    "$$\n",
    "$$\n",
    "     \\[\n",
    "     [A | B] = \\begin{bmatrix} a_{11} & a_{12} & b_{11} \\\\ a_{21} & a_{22} & b_{21} \\end{bmatrix}\n",
    "     \\]\n",
    "$$\n",
    "\n",
    "$$\n",
    "     \\[\n",
    "     A = \\begin{bmatrix} a_{11} & a_{12} \\end{bmatrix}, \\quad C = \\begin{bmatrix} c_{11} & c_{12} \\end{bmatrix}\n",
    "     \\]   \n",
    "$$\n",
    "$$\n",
    "     \\[\n",
    "     \\begin{bmatrix} A \\\\ C \\end{bmatrix} = \\begin{bmatrix} a_{11} & a_{12} \\\\ c_{11} & c_{12} \\end{bmatrix}\n",
    "     \\]\n",
    "$$\n",
    "\n",
    "$$\n",
    "     \\[\n",
    "     A = \\begin{bmatrix} a_{11} & a_{12} \\\\ a_{21} & a_{22} \\\\ a_{31} & a_{32} \\end{bmatrix}\n",
    "     \\]\n",
    "$$\n",
    "$$\n",
    "     \\[\n",
    "     A_1 = \\begin{bmatrix} a_{11} & a_{12} \\end{bmatrix}, \\quad A_2 = \\begin{bmatrix} a_{21} & a_{22} \\\\ a_{31} & a_{32} \\end{bmatrix}\n",
    "     \\]\n",
    "\n",
    "$$"
   ],
   "metadata": {
    "collapsed": false
   }
  },
  {
   "cell_type": "code",
   "source": [
    "C = np.ones((2, 1)) * 3\n",
    "print('A:\\n', A)\n",
    "print('B:\\n', B)\n",
    "print('C:\\n', C)"
   ],
   "metadata": {
    "collapsed": false
   },
   "outputs": [],
   "execution_count": null
  },
  {
   "cell_type": "code",
   "source": [
    "A = np.ones((2, 2))\n",
    "B = np.ones((2, 1)) * 2\n",
    "\n",
    "AB = np.hstack([A, B])\n",
    "\n",
    "A = np.ones((1, 2))\n",
    "C = np.ones((1, 2)) * 3\n",
    "AC = np.vstack([A, C])\n",
    "\n",
    "print('AB:\\n', AB)\n",
    "print('AC:\\n', AC)"
   ],
   "metadata": {
    "collapsed": false
   },
   "outputs": [],
   "execution_count": null
  },
  {
   "cell_type": "code",
   "source": [
    "A = np.arange(1, 7).reshape((3, 2))\n",
    "A1, A2 = A[:1, :], A[1:, :]\n",
    "print('A:\\n', A)\n",
    "print('A1:\\n', A1)\n",
    "print('A2:\\n', A2)"
   ],
   "metadata": {
    "collapsed": false
   },
   "outputs": [],
   "execution_count": null
  },
  {
   "cell_type": "markdown",
   "source": [
    "## Отображение графиков"
   ],
   "metadata": {
    "collapsed": false
   }
  },
  {
   "cell_type": "markdown",
   "source": [
    "### Matplotlib"
   ],
   "metadata": {
    "collapsed": false
   }
  },
  {
   "cell_type": "code",
   "source": [
    "plt.style.available"
   ],
   "metadata": {
    "collapsed": false
   },
   "outputs": [],
   "execution_count": null
  },
  {
   "cell_type": "code",
   "source": [
    "with plt.style.context('ggplot'):\n",
    "    x = np.arange(7)\n",
    "\n",
    "    plt.figure(figsize=(15, 10))\n",
    "\n",
    "    plt.plot(x, -x ** 2)\n",
    "    plt.plot(x, -x ** 3)\n",
    "    plt.plot(x, -2 * x)\n",
    "    plt.plot(x, -2 ** x)\n",
    "\n",
    "    plt.show()"
   ],
   "metadata": {
    "collapsed": false
   },
   "outputs": [],
   "execution_count": null
  },
  {
   "cell_type": "code",
   "source": [
    "with plt.style.context('ggplot'):\n",
    "    x = np.arange(5)\n",
    "    y = x\n",
    "\n",
    "    plt.figure(figsize=(15, 10))\n",
    "\n",
    "    plt.plot(x, y + 0.4, 'g')\n",
    "    plt.plot(x, y + 0.2, 'y')\n",
    "    plt.plot(x, y, 'r')\n",
    "    plt.plot(x, y - 0.2, 'c')\n",
    "    plt.plot(x, y - 0.4, 'k')\n",
    "    plt.plot(x, y - 0.6, 'm')\n",
    "    plt.plot(x, y - 0.8, 'w')\n",
    "    plt.plot(x, y - 1, 'b')\n",
    "\n",
    "    plt.show()"
   ],
   "metadata": {
    "collapsed": false
   },
   "outputs": [],
   "execution_count": null
  },
  {
   "cell_type": "code",
   "source": [
    "with plt.style.context('ggplot'):\n",
    "    x = np.arange(5)\n",
    "    y = x\n",
    "\n",
    "    plt.figure(figsize=(15, 10))\n",
    "\n",
    "    plt.plot(x, y, '.')\n",
    "    plt.plot(x, y + 0.5, ',')\n",
    "    plt.plot(x, y + 1, 'o')\n",
    "    plt.plot(x, y + 2, '<')\n",
    "    plt.plot(x, y + 3, '>')\n",
    "    plt.plot(x, y + 4, 'v')\n",
    "    plt.plot(x, y + 5, '^')\n",
    "    plt.plot(x, y + 6, '1')\n",
    "    plt.plot(x, y + 7, '2')\n",
    "    plt.plot(x, y + 8, '3')\n",
    "    plt.plot(x, y + 9, '4')\n",
    "    plt.plot(x, y + 10, 's')\n",
    "    plt.plot(x, y + 11, 'p')\n",
    "    plt.plot(x, y + 12, '*')\n",
    "    plt.plot(x, y + 13, 'h')\n",
    "    plt.plot(x, y + 14, 'H')\n",
    "    plt.plot(x, y + 15, '+')\n",
    "    plt.plot(x, y + 16, 'D')\n",
    "    plt.plot(x, y + 17, 'd')\n",
    "    plt.plot(x, y + 18, '|')\n",
    "    plt.plot(x, y + 19, '_')\n",
    "\n",
    "    plt.show()"
   ],
   "metadata": {
    "collapsed": false
   },
   "outputs": [],
   "execution_count": null
  },
  {
   "cell_type": "code",
   "source": [
    "with plt.style.context('ggplot'):\n",
    "    x = np.arange(5)\n",
    "    y = x\n",
    "\n",
    "    plt.figure(figsize=(15, 10))\n",
    "\n",
    "    plt.plot(x, y, color='g', linestyle='--', linewidth=1.5,\n",
    "             marker='^', markerfacecolor='b', markeredgecolor='k',\n",
    "             markeredgewidth=1.5, markersize=5)\n",
    "    plt.grid(True)\n",
    "    plt.show()"
   ],
   "metadata": {
    "collapsed": false
   },
   "outputs": [],
   "execution_count": null
  },
  {
   "cell_type": "code",
   "source": [
    "with plt.style.context('ggplot'):\n",
    "    x = np.arange(5)\n",
    "    y = x\n",
    "\n",
    "    fig, ax = plt.subplots(figsize=(15, 10))\n",
    "\n",
    "    ax.plot(x, -x ** 2, label='-x**2')\n",
    "    ax.plot(x, -x ** 3, label='-x**3')\n",
    "    ax.plot(x, -2 * x, label='-2*x')\n",
    "    ax.plot(x, -2 ** x, label='-2**x')\n",
    "\n",
    "    ax.set_xlabel('x = np.arange(3)')\n",
    "    ax.set_ylabel('y = f(x)')\n",
    "    ax.set_title('Simple Plot Demo')\n",
    "\n",
    "    ax.legend()\n",
    "\n",
    "    ax.grid(True)\n",
    "\n",
    "    ax.text(0.25, -5, 'Simple Plot Demo')\n",
    "\n",
    "    plt.show()"
   ],
   "metadata": {
    "collapsed": false
   },
   "outputs": [],
   "execution_count": null
  },
  {
   "cell_type": "code",
   "source": [
    "with plt.style.context('ggplot'):\n",
    "    x = np.arange(1, 10, 0.1)\n",
    "\n",
    "    fig, ax = plt.subplots(figsize=(15, 10))\n",
    "\n",
    "    ax.plot(x, np.sin(x))\n",
    "    ax.plot(x, np.sin(x) + 1)\n",
    "    ax.plot(x, np.sin(x + 1))\n",
    "\n",
    "    ax.grid(True)\n",
    "\n",
    "    plt.show()"
   ],
   "metadata": {
    "collapsed": false
   },
   "outputs": [],
   "execution_count": null
  },
  {
   "cell_type": "markdown",
   "source": [
    "#### Отображение нескольких графиков вместе"
   ],
   "metadata": {
    "collapsed": false
   }
  },
  {
   "cell_type": "code",
   "source": [
    "with plt.style.context('ggplot'):\n",
    "    fig = plt.figure(constrained_layout=True, figsize=(15, 10))\n",
    "    specs = gridspec.GridSpec(ncols=2, nrows=2, figure=fig)\n",
    "\n",
    "    ax1 = fig.add_subplot(specs[0, 0])\n",
    "    ax2 = fig.add_subplot(specs[0, 1])\n",
    "    ax3 = fig.add_subplot(specs[1, 0])\n",
    "    ax4 = fig.add_subplot(specs[1, 1])\n",
    "\n",
    "    plt.show()"
   ],
   "metadata": {
    "collapsed": false
   },
   "outputs": [],
   "execution_count": null
  },
  {
   "cell_type": "code",
   "source": [
    "with plt.style.context('ggplot'):\n",
    "    fig = plt.figure(constrained_layout=True, figsize=(15, 10))\n",
    "    gs = fig.add_gridspec(3, 3)\n",
    "    ax1 = fig.add_subplot(gs[0, :])\n",
    "    ax1.set_title('gs[0, :]')\n",
    "    ax2 = fig.add_subplot(gs[1, :])\n",
    "    ax2.set_title('gs[1, :]')\n",
    "    ax3 = fig.add_subplot(gs[2, :])\n",
    "    ax3.set_title('gs[2, :]')\n",
    "    plt.show()\n"
   ],
   "metadata": {
    "collapsed": false
   },
   "outputs": [],
   "execution_count": null
  },
  {
   "cell_type": "code",
   "source": [
    "with plt.style.context('ggplot'):\n",
    "    fig = plt.figure(constrained_layout=True, figsize=(15, 10))\n",
    "    gs = fig.add_gridspec(3, 3)\n",
    "    ax1 = fig.add_subplot(gs[:, 0])\n",
    "    ax1.set_title('gs[:, 0]')\n",
    "    ax2 = fig.add_subplot(gs[:, 1])\n",
    "    ax2.set_title('gs[:, 1]')\n",
    "    ax3 = fig.add_subplot(gs[:, 2])\n",
    "    ax3.set_title('gs[:, 2]')\n",
    "    plt.show()"
   ],
   "metadata": {
    "collapsed": false
   },
   "outputs": [],
   "execution_count": null
  },
  {
   "cell_type": "markdown",
   "source": [
    "### Seaborn\n",
    "\n",
    "[подробнее](https://seaborn.pydata.org/)\n",
    "\n",
    "Почему Seaborn?\n",
    "\n",
    "* Более высокоуровневый чем matplotlib (проще использовать)\n",
    "* Поддержка pandas dataframe\n",
    "* Улучшенные статистические графики"
   ],
   "metadata": {
    "collapsed": false
   }
  },
  {
   "cell_type": "code",
   "source": [
    "with plt.style.context('ggplot'):\n",
    "    x = np.linspace(0, 4 * np.pi, 1000)\n",
    "\n",
    "    plt.figure(figsize=(15, 10))\n",
    "    sns.lineplot(x=x, y=np.sin(x))\n",
    "\n",
    "    plt.show()"
   ],
   "metadata": {
    "collapsed": false
   },
   "outputs": [],
   "execution_count": null
  },
  {
   "cell_type": "code",
   "source": [
    "# Here is an example DataFrame\n",
    "data = {\n",
    "    'State': ['California', 'California', 'California', 'Texas', 'Texas', 'Texas', 'New York', 'New York', 'New York'],\n",
    "    'Year': [2000, 2001, 2002, 2000, 2001, 2002, 2000, 2001, 2002],\n",
    "    'Value': np.random.randint(low=0, high=10, size=9)\n",
    "}\n",
    "\n",
    "df = pd.DataFrame(data)\n",
    "\n",
    "# Pivot the DataFrame to create a matrix\n",
    "pivot_df = df.pivot('State', 'Year', 'Value')\n",
    "\n",
    "plt.figure(figsize=(15, 10))\n",
    "# Create the heatmap\n",
    "sns.heatmap(pivot_df)"
   ],
   "metadata": {
    "collapsed": false
   },
   "outputs": [],
   "execution_count": null
  },
  {
   "cell_type": "markdown",
   "source": [
    "### Задание"
   ],
   "metadata": {
    "collapsed": false
   }
  },
  {
   "cell_type": "markdown",
   "source": [
    "[https://en.wikipedia.org/wiki/Amdahl%27s_law](https://en.wikipedia.org/wiki/Amdahl%27s_law)\n",
    "\n",
    "1. Построить на группе графиков 2x2 функции `sin`, `cos`, `tg`, `ctg`, используя только `np.sin`\n",
    "2. Построить на одном плоте несколько графиков закона амдаля для разных p"
   ],
   "metadata": {
    "collapsed": false
   }
  },
  {
   "metadata": {},
   "cell_type": "code",
   "source": [
    "with plt.style.context('ggplot'):\n",
    "    fig = plt.figure(constrained_layout=True, figsize=(15, 10))\n",
    "    specs = gridspec.GridSpec(ncols=2, nrows=2, figure=fig)\n",
    "\n",
    "    ax1 = fig.add_subplot(specs[0, 0])\n",
    "    ax2 = fig.add_subplot(specs[0, 1])\n",
    "    ax3 = fig.add_subplot(specs[1, 0])\n",
    "    ax4 = fig.add_subplot(specs[1, 1])\n",
    "\n",
    "    x = np.linspace(-2 * np.pi, 2 * np.pi, 1000)\n",
    "    ax1.plot(x, np.sin(x))\n",
    "    ax2.plot(x, np.cos(x))\n",
    "    ax3.plot(x, np.tan(x))\n",
    "    ax4.plot(x, 1 / np.tan(x))\n",
    "\n",
    "    plt.show()"
   ],
   "outputs": [],
   "execution_count": null
  },
  {
   "cell_type": "markdown",
   "source": [
    "### Plotly\n",
    "\n",
    "[https://plotly.com/python/](https://plotly.com/python/)"
   ],
   "metadata": {
    "collapsed": false
   }
  },
  {
   "cell_type": "markdown",
   "source": [
    "#### 3D поверхности"
   ],
   "metadata": {
    "collapsed": false
   }
  },
  {
   "cell_type": "code",
   "source": [
    "# https://en.wikipedia.org/wiki/Gaussian_function\n",
    "# Define the gaussian function\n",
    "def gaussian_2d(x, y, mux, muy, sigmax, sigmay):\n",
    "    return np.exp(-((x - mux) ** 2 / (2 * sigmax ** 2) + (y - muy) ** 2 / (2 * sigmay ** 2)))\n",
    "\n",
    "\n",
    "# Parameters of the gaussian\n",
    "mux, muy = 0.0, 0.0  # means\n",
    "sigmax, sigmay = 1.0, 1.0  # standard deviations\n",
    "\n",
    "# Create grid and compute gaussian values\n",
    "x = np.linspace(-3, 3, 100)\n",
    "y = np.linspace(-3, 3, 100)\n",
    "X, Y = np.meshgrid(x, y)\n",
    "Z = gaussian_2d(X, Y, mux, muy, sigmax, sigmay)\n",
    "\n",
    "# Create a 3D plot using plotly\n",
    "fig = go.Figure(data=go.Surface(z=Z, x=X, y=Y, colorscale='Viridis'))\n",
    "fig.update_layout(scene=dict(\n",
    "    xaxis_title='X AXIS',\n",
    "    yaxis_title='Y AXIS',\n",
    "    zaxis_title='Z AXIS'))\n",
    "fig.show()"
   ],
   "metadata": {
    "collapsed": false
   },
   "outputs": [],
   "execution_count": null
  },
  {
   "cell_type": "markdown",
   "source": [
    "# Визуализация данных"
   ],
   "metadata": {
    "collapsed": false
   }
  },
  {
   "cell_type": "markdown",
   "source": [
    "#### Данные по акциям\n",
    "\n",
    "[https://www.kaggle.com/datasets/brtnsmth/intraday-market-data?select=TOS+Kaggle+data+example.csv](https://www.kaggle.com/datasets/brtnsmth/intraday-market-data?select=TOS+Kaggle+data+example.csv)"
   ],
   "metadata": {
    "collapsed": false
   }
  },
  {
   "cell_type": "code",
   "source": [
    "intraday_df = pd.read_csv('intraday.csv')\n",
    "intraday_df[['TimeStamp', 'AAPL']]"
   ],
   "metadata": {
    "collapsed": false
   },
   "outputs": [],
   "execution_count": null
  },
  {
   "cell_type": "code",
   "source": [
    "# Convert the index to datetime\n",
    "intraday_df.index = pd.to_datetime(intraday_df['TimeStamp'])\n",
    "intraday_trading_hours_df = intraday_df.between_time('9:30', '16:30')\n",
    "\n",
    "# Extract the hour from the datetime index\n",
    "intraday_trading_hours_df['Hour'] = intraday_trading_hours_df.index.hour\n",
    "\n",
    "# Create a box plot\n",
    "fig = px.box(intraday_trading_hours_df, x='Hour', y='AAPL', title='Intraday Stock Prices')\n",
    "\n",
    "# Show the plot\n",
    "fig.show()"
   ],
   "metadata": {
    "collapsed": false
   },
   "outputs": [],
   "execution_count": null
  },
  {
   "cell_type": "code",
   "source": [
    "# Create a histogram for single trading hour\n",
    "hour_9_trading = intraday_trading_hours_df[intraday_trading_hours_df.Hour == 9]\n",
    "fig = go.Figure(data=[go.Histogram(x=hour_9_trading['AAPL'], nbinsx=200)])\n",
    "\n",
    "# Show the plot\n",
    "fig.show()"
   ],
   "metadata": {
    "collapsed": false
   },
   "outputs": [],
   "execution_count": null
  },
  {
   "cell_type": "markdown",
   "source": [],
   "metadata": {
    "collapsed": false
   }
  },
  {
   "cell_type": "code",
   "source": [
    "# DataFrame with State and a value\n",
    "df = pd.DataFrame({\n",
    "    'State': ['CA', 'TX', 'NY', 'FL', 'IL'],\n",
    "    'Value': [10, 5, 15, 7, 3]\n",
    "})\n",
    "\n",
    "# Create a Choropleth map\n",
    "fig = px.choropleth(df,\n",
    "                    locations='State',\n",
    "                    locationmode='USA-states',\n",
    "                    color='Value',\n",
    "                    scope='usa',\n",
    "                    title='Heatmap of Value by State',\n",
    "                    color_continuous_scale='Reds')\n",
    "\n",
    "fig.show()"
   ],
   "metadata": {
    "collapsed": false
   },
   "outputs": [],
   "execution_count": null
  },
  {
   "cell_type": "markdown",
   "source": [
    "## Линейная алгебра\n"
   ],
   "metadata": {
    "collapsed": false
   }
  },
  {
   "cell_type": "markdown",
   "source": [
    "### Click bait"
   ],
   "metadata": {
    "collapsed": false
   }
  },
  {
   "cell_type": "code",
   "source": [
    "IPImage(url='click_bait.jpg', width=400)"
   ],
   "metadata": {
    "collapsed": false
   },
   "outputs": [],
   "execution_count": null
  },
  {
   "cell_type": "code",
   "source": [
    "# Coefficients matrix 'A'\n",
    "A = np.array([[3, 0, 0],\n",
    "              [1, 2, 0],\n",
    "              [0, 1, 2]])\n",
    "\n",
    "# Constants matrix 'b'\n",
    "b = np.array([30, 20, 9])\n",
    "\n",
    "# Solve the system of equations\n",
    "x = np.linalg.solve(A, b)\n",
    "\n",
    "print(x, '->', x[1] + x[2] * x[0])\n"
   ],
   "metadata": {
    "collapsed": false
   },
   "outputs": [],
   "execution_count": null
  },
  {
   "cell_type": "markdown",
   "source": [
    "Решение через обратную матрицу\n",
    "$$\n",
    "\\mathbf{A}\\mathbf{x}=b \\iff \\mathbf{x}=\\mathbf{A}^{-1}b\n",
    "$$"
   ],
   "metadata": {
    "collapsed": false
   }
  },
  {
   "cell_type": "code",
   "source": [
    "A_inv = np.linalg.inv(A)\n",
    "\n",
    "x = A_inv @ b\n",
    "\n",
    "print(x)"
   ],
   "metadata": {
    "collapsed": false
   },
   "outputs": [],
   "execution_count": null
  },
  {
   "cell_type": "markdown",
   "source": [
    "### Задание"
   ],
   "metadata": {
    "collapsed": false
   }
  },
  {
   "cell_type": "markdown",
   "source": [
    "Дано матричное уравнение\n",
    "$$\n",
    "\\mathbf{A} = \\begin{bmatrix}3 \\\\ 2 \\\\ -1\\end{bmatrix} \\\\\n",
    "\\mathbf{B} = \\begin{bmatrix}2 \\\\ -2 \\\\ 0.5\\end{bmatrix} \\\\\n",
    "\\mathbf{C} = \\begin{bmatrix}-1 \\\\ 4 \\\\ -1\\end{bmatrix} \\\\\n",
    "\\mathbf{D} = \\begin{bmatrix}1 \\\\ -2 \\\\ 0\\end{bmatrix}\n",
    "$$\n",
    "\n",
    "$$\n",
    "\\mathbf{A}x + \\mathbf{B}y + \\mathbf{C}z = \\mathbf{D}\n",
    "$$\n",
    "\n",
    "Сформировать матрицы A, B, C, D\n",
    "Решить через втроенную функцию `np.linalg.solve` и через обратную матрицу"
   ],
   "metadata": {
    "collapsed": false
   }
  },
  {
   "cell_type": "code",
   "source": "",
   "metadata": {
    "collapsed": false
   },
   "outputs": [],
   "execution_count": null
  },
  {
   "cell_type": "markdown",
   "source": [
    "## Стастика и теория вероятностей"
   ],
   "metadata": {
    "collapsed": false
   }
  },
  {
   "cell_type": "markdown",
   "source": [
    "пакет numpy.random используется для генерации случайных последовательностей с разнообразными статистическими распределениями"
   ],
   "metadata": {
    "collapsed": false
   }
  },
  {
   "cell_type": "markdown",
   "source": [
    "### Комбинаторика"
   ],
   "metadata": {
    "collapsed": false
   }
  },
  {
   "cell_type": "markdown",
   "source": [
    "Перестановка без повторений (Permutations)"
   ],
   "metadata": {
    "collapsed": false
   }
  },
  {
   "cell_type": "code",
   "source": [
    "seq = np.array([1, 2, 3, 4, 5])\n",
    "\n",
    "permuted_seq = np.random.permutation(seq)\n",
    "\n",
    "print('Permuted:', permuted_seq)"
   ],
   "metadata": {
    "collapsed": false
   },
   "outputs": [],
   "execution_count": null
  },
  {
   "cell_type": "markdown",
   "source": [
    "Перестановка с повторениями (Permutations of Multisets)"
   ],
   "metadata": {
    "collapsed": false
   }
  },
  {
   "cell_type": "code",
   "source": [
    "permuted_seq = np.random.choice(seq, size=len(seq), replace=True)\n",
    "\n",
    "print('Permuted:', permuted_seq)"
   ],
   "metadata": {
    "collapsed": false
   },
   "outputs": [],
   "execution_count": null
  },
  {
   "cell_type": "markdown",
   "source": [
    "Сочетание (Combinations)"
   ],
   "metadata": {
    "collapsed": false
   }
  },
  {
   "cell_type": "code",
   "source": [
    "comb_2_of_5 = np.random.choice(seq, size=2, replace=False)\n",
    "\n",
    "print('Combination 2 of 5:', comb_2_of_5)"
   ],
   "metadata": {
    "collapsed": false
   },
   "outputs": [],
   "execution_count": null
  },
  {
   "cell_type": "markdown",
   "source": [
    "Сочетания с повторениями (Combinations with Repetition)"
   ],
   "metadata": {
    "collapsed": false
   }
  },
  {
   "cell_type": "code",
   "source": [
    "comb_4_of_5 = np.random.choice(seq, size=4, replace=True)\n",
    "\n",
    "print('Combination w/r 4 of 5:', comb_4_of_5)"
   ],
   "metadata": {
    "collapsed": false
   },
   "outputs": [],
   "execution_count": null
  },
  {
   "cell_type": "markdown",
   "source": [
    "Решим простую задачку:\n",
    "Дана стандартная колода карт, необходимо определить какова вероятность того что выпадет пара с одинаковым достоинством"
   ],
   "metadata": {
    "collapsed": false
   }
  },
  {
   "cell_type": "markdown",
   "source": [
    "Теоретическая вероятность:\n",
    "\n",
    "$$ 3/51 = 1/17 = 0.0588 $$"
   ],
   "metadata": {
    "collapsed": false
   }
  },
  {
   "cell_type": "code",
   "source": [
    "# Define a deck of cards: 4 cards of each rank\n",
    "deck = np.repeat(np.arange(1, 14), 4)\n",
    "\n",
    "print(deck)"
   ],
   "metadata": {
    "collapsed": false
   },
   "outputs": [],
   "execution_count": null
  },
  {
   "cell_type": "code",
   "source": [
    "# Run simulation for a large number of trials\n",
    "num_trials = 10000\n",
    "\n",
    "experiments = np.zeros(num_trials, dtype=np.bool_)\n",
    "\n",
    "for i in range(num_trials):\n",
    "    # Draw two cards\n",
    "    card1, card2 = np.random.choice(deck, size=2)\n",
    "\n",
    "    # Check if the two cards form a pair\n",
    "    experiments[i] = card1 == card2\n",
    "\n",
    "num_pairs = np.sum(experiments)\n",
    "\n",
    "# Estimate the probability\n",
    "estimated_prob = num_pairs / num_trials\n",
    "\n",
    "print(f'Empirical probability: {estimated_prob}')"
   ],
   "metadata": {
    "collapsed": false
   },
   "outputs": [],
   "execution_count": null
  },
  {
   "cell_type": "markdown",
   "source": [
    "### Статистические распределения"
   ],
   "metadata": {
    "collapsed": false
   }
  },
  {
   "cell_type": "code",
   "source": [
    "# Set a seed for reproducibility\n",
    "np.random.seed(0)\n",
    "\n",
    "# Generate a normal distribution and a uniform distribution\n",
    "size = 10000\n",
    "normal_dist = np.random.normal(loc=0, scale=1, size=size)\n",
    "uniform_dist = np.random.uniform(low=0, high=1, size=size)\n",
    "exp_dist = np.random.exponential(scale=1, size=size)\n",
    "log_dist = np.random.lognormal(mean=1, sigma=0.5, size=size)\n",
    "pareto_dist = np.random.pareto(a=3.0,\n",
    "                               size=size) * 2\n",
    "\n",
    "# Calculate statistics\n",
    "distributions = [normal_dist, uniform_dist, log_dist, pareto_dist]\n",
    "titles = ['Normal Distribution', 'Uniform Distribution', 'Lognorm distribution',\n",
    "          'Pareto distribution']\n",
    "statistics = ['Mean', 'Median']\n",
    "\n",
    "with plt.style.context('ggplot'):\n",
    "    fig = plt.figure(constrained_layout=True, figsize=(20, 10))\n",
    "    specs = gridspec.GridSpec(ncols=2, nrows=2, figure=fig)\n",
    "\n",
    "    subplots = [\n",
    "        fig.add_subplot(specs[0, 0]),\n",
    "        fig.add_subplot(specs[0, 1]),\n",
    "        fig.add_subplot(specs[1, 0]),\n",
    "        fig.add_subplot(specs[1, 1]),\n",
    "    ]\n",
    "\n",
    "    for dist, title, idx in zip(distributions, titles, range(len(distributions))):\n",
    "        ax = subplots[idx]\n",
    "        mean = np.mean(dist)\n",
    "        median = np.median(dist)\n",
    "\n",
    "        # Create histogram\n",
    "        # https://seaborn.pydata.org/generated/seaborn.histplot.html\n",
    "        sns.histplot(dist, kde=False, stat='density', bins=200, color='blue', ax=ax)\n",
    "\n",
    "        # Add vertical lines for mean, median and mode\n",
    "        ax.axvline(mean, color='red', linestyle='dashed', linewidth=1)\n",
    "        ax.axvline(median, color='blue', linestyle='dashed', linewidth=1)\n",
    "\n",
    "        # Add legend\n",
    "        ax.legend({'Mean': mean, 'Median': median})\n",
    "\n",
    "        # Add title and show plot\n",
    "        ax.set_title(title)\n",
    "\n",
    "plt.show()\n"
   ],
   "metadata": {
    "collapsed": false
   },
   "outputs": [],
   "execution_count": null
  },
  {
   "cell_type": "markdown",
   "source": [
    "`random.choice` по умолчанию использует `uniform`"
   ],
   "metadata": {
    "collapsed": false
   }
  },
  {
   "cell_type": "markdown",
   "source": [
    "### Парето 80/20"
   ],
   "metadata": {
    "collapsed": false
   }
  },
  {
   "cell_type": "markdown",
   "source": [
    "[Pareto distribution](https://en.wikipedia.org/wiki/Pareto_distribution)"
   ],
   "metadata": {
    "collapsed": false
   }
  },
  {
   "cell_type": "code",
   "source": [
    "# Set a seed for reproducibility\n",
    "np.random.seed(10)\n",
    "\n",
    "# Set a seed for reproducibility\n",
    "size = 1000\n",
    "bins = 100\n",
    "alpha = 1.16\n",
    "\n",
    "pareto_dist = np.random.pareto(a=alpha, size=size)\n",
    "\n",
    "percentile_80 = np.percentile(pareto_dist, 80)\n",
    "\n",
    "with plt.style.context('ggplot'):\n",
    "    fig, ax1 = plt.subplots(figsize=(10, 6))\n",
    "    sns.histplot(pareto_dist, kde=False, stat='density', bins=bins, ax=ax1)\n",
    "\n",
    "    # create the second set of axes\n",
    "    ax2 = ax1.twinx()\n",
    "\n",
    "    plt.axvline(percentile_80, color='red', linestyle='dashed', linewidth=1)\n",
    "\n",
    "    # plot the cumulative sum on the second set of axes\n",
    "    # https://seaborn.pydata.org/generated/seaborn.histplot.html\n",
    "    sns.histplot(pareto_dist, cumulative=True, stat='density', color='darkred', element='poly', fill=False, bins=100,\n",
    "                 ax=ax2)\n",
    "\n",
    "    plt.show()\n",
    "\n",
    "richest_20 = pareto_dist[pareto_dist >= percentile_80]\n",
    "others = pareto_dist[pareto_dist < percentile_80]\n",
    "\n",
    "full_sum = np.sum(pareto_dist)\n",
    "\n",
    "print('Richest 20%:', np.sum(richest_20) / full_sum)\n",
    "print('Other 80%:', np.sum(others) / full_sum)"
   ],
   "metadata": {
    "collapsed": false
   },
   "outputs": [],
   "execution_count": null
  },
  {
   "cell_type": "markdown",
   "source": [
    "[Climate Change: Earth Surface Temperature Data](https://www.kaggle.com/datasets/berkeleyearth/climate-change-earth-surface-temperature-data?resource=download)\n",
    "\n",
    "Построить гистограмму изменения среднемесячной температуры в июне в Москве с 1990 по 2020"
   ],
   "metadata": {
    "collapsed": false
   }
  },
  {
   "cell_type": "code",
   "source": [
    "global_land_temperatures_by_city = pd.read_csv('GlobalLandTemperaturesByCity.csv')\n",
    "\n",
    "global_land_temperatures_by_city.dt = pd.to_datetime(global_land_temperatures_by_city.dt)\n",
    "global_land_temperatures_by_city['year'] = global_land_temperatures_by_city.dt.dt.year\n",
    "global_land_temperatures_by_city['month'] = global_land_temperatures_by_city.dt.dt.month"
   ],
   "metadata": {
    "collapsed": false
   },
   "outputs": [],
   "execution_count": null
  },
  {
   "cell_type": "code",
   "source": [
    "global_land_temperatures_by_city.year.describe"
   ],
   "metadata": {
    "collapsed": false
   },
   "outputs": [],
   "execution_count": null
  },
  {
   "cell_type": "code",
   "source": [
    "may_temps = global_land_temperatures_by_city[\n",
    "    (global_land_temperatures_by_city.City == 'Moscow')\n",
    "    &\n",
    "    (global_land_temperatures_by_city.year.between(1990, 2013))\n",
    "    &\n",
    "    (global_land_temperatures_by_city.month == 6)\n",
    "    ]\n",
    "mean_may_temps = may_temps.groupby(may_temps.year).max()\n",
    "mean_may_temps"
   ],
   "metadata": {
    "collapsed": false
   },
   "outputs": [],
   "execution_count": null
  },
  {
   "cell_type": "code",
   "source": [
    "with plt.style.context('ggplot'):\n",
    "    fig, ax1 = plt.subplots(figsize=(15, 6))\n",
    "\n",
    "    sns.barplot(x=mean_may_temps.index, y=mean_may_temps.AverageTemperature)"
   ],
   "metadata": {
    "collapsed": false
   },
   "outputs": [],
   "execution_count": null
  },
  {
   "cell_type": "markdown",
   "source": [
    "## Обработка изображений"
   ],
   "metadata": {
    "collapsed": false
   }
  },
  {
   "cell_type": "code",
   "source": [
    "with plt.style.context('grayscale'):\n",
    "    image = plt.imread('lenna.jpg')\n",
    "\n",
    "    # Create a new figure\n",
    "    fig, ax = plt.subplots()\n",
    "\n",
    "    # Display the image\n",
    "    ax.imshow(image)\n",
    "\n",
    "    # Set the major ticks at the corners of your pixels\n",
    "    ax.set_xticks(np.arange(0, image.shape[1], 100), minor=False)\n",
    "    ax.set_yticks(np.arange(0, image.shape[0], 100), minor=False)\n",
    "\n",
    "    # Want a more natural, table-like display\n",
    "    ax.xaxis.tick_top()\n",
    "\n",
    "    # Rotate the x labels\n",
    "    plt.xticks(rotation=90)\n",
    "\n",
    "    # Add grid\n",
    "    ax.grid(which='major', color='w', linestyle='-', linewidth=0.5)\n",
    "\n",
    "    plt.show()"
   ],
   "metadata": {
    "collapsed": false
   },
   "outputs": [],
   "execution_count": null
  },
  {
   "cell_type": "markdown",
   "source": [
    "### Применение сверточного ядра"
   ],
   "metadata": {
    "collapsed": false
   }
  },
  {
   "cell_type": "code",
   "source": [
    "def apply_kernel(img, kernel):\n",
    "    # Get the dimensions of the image and the kernel\n",
    "    iH, iW = img.shape\n",
    "    kH, kW = kernel.shape\n",
    "\n",
    "    # Prepare the output array\n",
    "    output = np.zeros_like(img)\n",
    "\n",
    "    # Pad the borders of the input image\n",
    "    pad = (kW - 1) // 2\n",
    "    image_padded = np.pad(img, pad)\n",
    "\n",
    "    # Perform the convolution operation\n",
    "    for y in range(iH):\n",
    "        for x in range(iW):\n",
    "            output[y, x] = (kernel * image_padded[y: y + kH, x: x + kW]).sum()\n",
    "\n",
    "    return output\n"
   ],
   "metadata": {
    "collapsed": false
   },
   "outputs": [],
   "execution_count": null
  },
  {
   "cell_type": "code",
   "source": [
    "IPImage(url='https://upload.wikimedia.org/wikipedia/commons/1/19/2D_Convolution_Animation.gif')"
   ],
   "metadata": {
    "collapsed": false
   },
   "outputs": [],
   "execution_count": null
  },
  {
   "metadata": {},
   "cell_type": "markdown",
   "source": ""
  },
  {
   "cell_type": "code",
   "source": [
    "sigma = 10\n",
    "size = 11\n",
    "kernel = np.zeros((size, size), dtype=float)\n",
    "sum_val = 0\n",
    "\n",
    "for x in range(size):\n",
    "    for y in range(size):\n",
    "        ex = -((x - 1) ** 2 + (y - 1) ** 2) / (2 * sigma ** 2)\n",
    "        kernel[x, y] = (1 / (2 * np.pi * sigma ** 2)) * np.exp(ex)\n",
    "        sum_val += kernel[x, y]\n",
    "\n",
    "# Нормализация ядра\n",
    "kernel /= sum_val\n",
    "\n",
    "print(kernel)"
   ],
   "metadata": {
    "collapsed": false
   },
   "outputs": [],
   "execution_count": null
  },
  {
   "cell_type": "code",
   "source": [
    "image = Image.open('lenna.jpg').convert('L')  # Convert image to grayscale\n",
    "src_image = np.array(image)\n",
    "image = src_image\n",
    "\n",
    "applying_kernel = np.array([\n",
    "    [1 / 16, 1 / 8, 1 / 16],\n",
    "    [1 / 8, 1 / 4, 1 / 8],\n",
    "    [1 / 16, 1 / 8, 1 / 16]\n",
    "])\n",
    "\n",
    "image = apply_kernel(image, applying_kernel)\n",
    "\n",
    "with plt.style.context('ggplot'):\n",
    "    # Display the images\n",
    "    plt.figure(figsize=(20, 10))\n",
    "    plt.subplot(1, 2, 1)\n",
    "    plt.title('Original')\n",
    "    plt.imshow(src_image, cmap='gray')\n",
    "\n",
    "    plt.subplot(1, 2, 2)\n",
    "    plt.title('Result')\n",
    "    plt.imshow(image, cmap='gray')\n",
    "\n",
    "    plt.show()"
   ],
   "metadata": {
    "collapsed": false
   },
   "outputs": [],
   "execution_count": null
  },
  {
   "cell_type": "markdown",
   "source": [],
   "metadata": {
    "collapsed": false
   }
  },
  {
   "cell_type": "code",
   "source": [
    "result = convolve2d(image, applying_kernel)\n",
    "result = np.clip(result, 0, 255)  # Ensure all pixel intensities are within the range [0, 255]\n",
    "\n",
    "# Convert the result to an image\n",
    "result_image = Image.fromarray(result.astype('uint8'))\n",
    "\n",
    "with plt.style.context('ggplot'):\n",
    "    # Display the images\n",
    "    plt.figure(figsize=(20, 10))\n",
    "    plt.subplot(1, 2, 1)\n",
    "    plt.title('Original')\n",
    "    plt.imshow(image, cmap='gray')\n",
    "\n",
    "    plt.subplot(1, 2, 2)\n",
    "    plt.title('Result')\n",
    "    plt.imshow(result_image, cmap='gray')\n",
    "\n",
    "    plt.show()"
   ],
   "metadata": {
    "collapsed": false
   },
   "outputs": [],
   "execution_count": null
  },
  {
   "cell_type": "markdown",
   "source": [
    "### Визуализация сверточного ядра"
   ],
   "metadata": {
    "collapsed": false
   }
  },
  {
   "cell_type": "code",
   "source": [
    "# Create a meshgrid for plotting\n",
    "X, Y = np.meshgrid(range(applying_kernel.shape[1]), range(applying_kernel.shape[0]))\n",
    "\n",
    "# Create the 3D surface plot\n",
    "fig = go.Figure(data=[go.Surface(z=applying_kernel, x=X, y=Y)])\n",
    "\n",
    "# Set the layout properties\n",
    "fig.update_layout(\n",
    "    title='3D Kernel Visualization',\n",
    "    autosize=False,\n",
    "    width=500,\n",
    "    height=500,\n",
    "    margin=dict(l=65, r=50, b=65, t=90)\n",
    ")\n",
    "\n",
    "# Show the plot\n",
    "fig.show()"
   ],
   "metadata": {
    "collapsed": false
   },
   "outputs": [],
   "execution_count": null
  },
  {
   "cell_type": "markdown",
   "source": [
    "### Задание"
   ],
   "metadata": {
    "collapsed": false
   }
  },
  {
   "cell_type": "markdown",
   "source": [
    "Применить любое другое сверточное ядро\n",
    "[https://en.wikipedia.org/wiki/Kernel_(image_processing)](https://en.wikipedia.org/wiki/Kernel_(image_processing))"
   ],
   "metadata": {
    "collapsed": false
   }
  },
  {
   "cell_type": "code",
   "source": [],
   "metadata": {
    "collapsed": false
   },
   "outputs": [],
   "execution_count": null
  },
  {
   "cell_type": "markdown",
   "source": [
    "## Работа с цифровым сигналом"
   ],
   "metadata": {
    "collapsed": false
   }
  },
  {
   "cell_type": "markdown",
   "source": [
    "### Подавление шума с помощью преобразования фурье"
   ],
   "metadata": {
    "collapsed": false
   }
  },
  {
   "cell_type": "code",
   "source": [
    "# Create an array of x values from 0 to 2*pi (one complete wave)\n",
    "x = np.linspace(0, 2 * np.pi, 1000)\n",
    "\n",
    "# Create a sin wave\n",
    "y = np.sin(x)\n",
    "\n",
    "noise = np.random.normal(0, 0.1, y.shape)\n",
    "\n",
    "# Add the noise to the sine wave\n",
    "y_noise = y + noise\n",
    "\n",
    "# Plot the original sine wave and the noisy one\n",
    "with plt.style.context('seaborn'):\n",
    "    plt.figure(figsize=(10, 6))\n",
    "    plt.plot(x, y_noise, label='With noise')\n",
    "    plt.legend()\n",
    "    plt.show()"
   ],
   "metadata": {
    "collapsed": false
   },
   "outputs": [],
   "execution_count": null
  },
  {
   "cell_type": "code",
   "source": [
    "# Compute FFT\n",
    "fft_vals = np.fft.fft(y_noise)\n",
    "\n",
    "# Frequencies associated with FFT values\n",
    "fft_freq = np.fft.fftfreq(len(y_noise), x[1] - x[0])\n",
    "\n",
    "# Plot the absolute value of the FFT\n",
    "with plt.style.context('seaborn'):\n",
    "    plt.figure(figsize=(10, 6))\n",
    "    plt.plot(fft_freq, np.abs(fft_vals))\n",
    "    plt.title('Frequency domain of the signal')\n",
    "    plt.xlabel('Frequency')\n",
    "    plt.ylabel('Magnitude')\n",
    "    plt.show()"
   ],
   "metadata": {
    "collapsed": false
   },
   "outputs": [],
   "execution_count": null
  },
  {
   "cell_type": "code",
   "source": [
    "# Define a threshold to keep only the larger frequency components\n",
    "threshold = np.abs(fft_vals).max() / 10\n",
    "\n",
    "# Create a filtered version of the FFT values where the smaller components are set to 0\n",
    "fft_vals_filtered = np.where(np.abs(fft_vals) > threshold, fft_vals, 0)\n",
    "\n",
    "# Apply the inverse FFT\n",
    "y_filtered = np.fft.ifft(fft_vals_filtered)\n",
    "\n",
    "# Plot the absolute value of the FFT\n",
    "with plt.style.context('seaborn'):\n",
    "    plt.figure(figsize=(10, 6))\n",
    "    plt.plot(fft_freq, np.abs(fft_vals_filtered))\n",
    "    plt.title('Frequency domain of the signal')\n",
    "    plt.xlabel('Frequency')\n",
    "    plt.ylabel('Magnitude')\n",
    "    plt.show()"
   ],
   "metadata": {
    "collapsed": false
   },
   "outputs": [],
   "execution_count": null
  },
  {
   "cell_type": "code",
   "source": [
    "# Plot the filtered signal\n",
    "with plt.style.context('seaborn'):\n",
    "    plt.figure(figsize=(10, 6))\n",
    "    plt.plot(x, y_noise, color='red', label='With noise')\n",
    "    plt.plot(x, np.real(y_filtered), label='Filtered')\n",
    "    plt.legend()\n",
    "    plt.show()"
   ],
   "metadata": {
    "collapsed": false
   },
   "outputs": [],
   "execution_count": null
  },
  {
   "cell_type": "markdown",
   "source": [
    "### Синтез цифрового сигнала"
   ],
   "metadata": {
    "collapsed": false
   }
  },
  {
   "cell_type": "markdown",
   "source": [
    "#### Генерация пилообразной волны"
   ],
   "metadata": {
    "collapsed": false
   }
  },
  {
   "cell_type": "code",
   "source": [
    "duration = 2.0  # duration of the sound in seconds\n",
    "amplitude = 0.5  # amplitude of the sound\n",
    "frequency = 440.0  # frequency of the sound in Hz (A4 note)\n",
    "sampling_rate = 44100  # number of samples per second (standard for audio)"
   ],
   "metadata": {
    "collapsed": false
   },
   "outputs": [],
   "execution_count": null
  },
  {
   "cell_type": "code",
   "source": [
    "t = np.linspace(0, duration, int(sampling_rate * duration))\n",
    "\n",
    "# Generate a triangle wave\n",
    "# https://en.wikipedia.org/wiki/Triangle_wave\n",
    "sound = amplitude * 2 * np.abs(t * frequency - np.floor(t * frequency + 0.5))\n",
    "# sound = amplitude * 2 * (t * frequency - np.floor(0.5 + t * frequency))\n",
    "\n",
    "# Normalize to 16-bit range and convert to int16\n",
    "sound = np.int16(sound / np.max(np.abs(sound)) * 32767)\n",
    "\n",
    "with plt.style.context('ggplot'):\n",
    "    plt.plot(t[:1000], sound[:1000])\n",
    "    plt.show()"
   ],
   "metadata": {
    "collapsed": false
   },
   "outputs": [],
   "execution_count": null
  },
  {
   "cell_type": "code",
   "source": [
    "# https://ru.wikipedia.org/wiki/ADSR-%D0%BE%D0%B3%D0%B8%D0%B1%D0%B0%D1%8E%D1%89%D0%B0%D1%8F\n",
    "# ADSR parameters\n",
    "attack_time = 0.1  # attack time in seconds\n",
    "decay_time = 0.1  # decay time in seconds\n",
    "sustain_level = 0.5  # sustain level (relative to amplitude)\n",
    "release_time = 1  # release time in seconds\n",
    "\n",
    "# Generate the ADSR envelope\n",
    "total_samples = len(sound)\n",
    "attack_samples = int(attack_time * sampling_rate)\n",
    "decay_samples = int(decay_time * sampling_rate)\n",
    "release_samples = int(release_time * sampling_rate)\n",
    "sustain_samples = total_samples - (attack_samples + decay_samples + release_samples)\n",
    "\n",
    "adsr_envelope = np.concatenate([\n",
    "    np.linspace(0, 1, attack_samples, False),  # attack\n",
    "    np.linspace(1, sustain_level, decay_samples, False),  # decay\n",
    "    sustain_level * np.ones(sustain_samples),  # sustain\n",
    "    np.linspace(sustain_level, 0, release_samples, False)  # release\n",
    "])\n",
    "\n",
    "with plt.style.context('ggplot'):\n",
    "    plt.plot(t, adsr_envelope)\n",
    "    plt.show()"
   ],
   "metadata": {
    "collapsed": false
   },
   "outputs": [],
   "execution_count": null
  },
  {
   "cell_type": "code",
   "source": [
    "# Apply the ADSR envelope to the sound\n",
    "sound = sound * adsr_envelope\n",
    "\n",
    "# Normalize to 16-bit range and convert to int16\n",
    "sound = np.int16(sound / np.max(np.abs(sound)) * 32767)\n",
    "\n",
    "with plt.style.context('ggplot'):\n",
    "    plt.plot(t, sound)\n",
    "    plt.show()"
   ],
   "metadata": {
    "collapsed": false
   },
   "outputs": [],
   "execution_count": null
  },
  {
   "cell_type": "code",
   "source": [
    "IPAudio(sound, rate=sampling_rate)"
   ],
   "metadata": {
    "collapsed": false
   },
   "outputs": [],
   "execution_count": null
  },
  {
   "cell_type": "markdown",
   "source": [
    "### Задание со звездочкой"
   ],
   "metadata": {
    "collapsed": false
   }
  },
  {
   "cell_type": "markdown",
   "source": [
    "* Сгенерировать sin waveform https://en.wikipedia.org/wiki/Sine_wave\n",
    "* Сгенерировать sawtooth waveform https://en.wikipedia.org/wiki/Sawtooth_wave\n",
    "* Сгенерировать square waveform https://en.wikipedia.org/wiki/Square_wave\n",
    "* Сгенерировать мелодию по данным нотам"
   ],
   "metadata": {
    "collapsed": false
   }
  },
  {
   "cell_type": "code",
   "source": [
    "tempo = 200  # beats per second\n",
    "sampling_rate = 88200\n",
    "\n",
    "notes_frequencies = {\n",
    "    'C0': 16.35, 'C#0': 17.32, 'D0': 18.35, 'D#0': 19.45, 'E0': 20.60, 'F0': 21.83, 'F#0': 23.12,\n",
    "    'G0': 24.50, 'G#0': 25.96, 'A0': 27.50, 'A#0': 29.14, 'B0': 30.87,\n",
    "    'C1': 32.70, 'C#1': 34.65, 'D1': 36.71, 'D#1': 38.89, 'E1': 41.20, 'F1': 43.65, 'F#1': 46.25,\n",
    "    'G1': 49.00, 'G#1': 51.91, 'A1': 55.00, 'A#1': 58.27, 'B1': 61.74,\n",
    "    'C2': 65.41, 'C#2': 69.30, 'D2': 73.42, 'D#2': 77.78, 'E2': 82.41, 'F2': 87.31, 'F#2': 92.50,\n",
    "    'G2': 98.00, 'G#2': 103.83, 'A2': 110.00, 'A#2': 116.54, 'B2': 123.47,\n",
    "    'C3': 130.81, 'C#3': 138.59, 'D3': 146.83, 'D#3': 155.56, 'E3': 164.81, 'F3': 174.61, 'F#3': 185.00,\n",
    "    'G3': 196.00, 'G#3': 207.65, 'A3': 220.00, 'A#3': 233.08, 'B3': 246.94,\n",
    "    'C4': 261.63, 'C#4': 277.18, 'D4': 293.66, 'D#4': 311.13, 'E4': 329.63, 'F4': 349.23, 'F#4': 369.99,\n",
    "    'G4': 392.00, 'G#4': 415.30, 'A4': 440.00, 'A#4': 466.16, 'B4': 493.88,\n",
    "    'C5': 523.25, 'C#5': 554.37, 'D5': 587.33, 'D#5': 622.25, 'E5': 659.26, 'F5': 698.46, 'F#5': 739.99,\n",
    "    'G5': 783.99, 'G#5': 830.61, 'A5': 880.00, 'A#5': 932.33, 'B5': 987.77,\n",
    "    'C6': 1046.50, 'C#6': 1108.73, 'D6': 1174.66, 'D#6': 1244.51, 'E6': 1318.51, 'F6': 1396.91,\n",
    "    'F#6': 1479.98, 'G6': 1567.98, 'G#6': 1661.22, 'A6': 1760.00, 'A#6': 1864.66, 'B6': 1975.53,\n",
    "    'C7': 2093.00, 'C#7': 2217.46, 'D7': 2349.32, 'D#7': 2489.02, 'E7': 2637.02, 'F7': 2793.83,\n",
    "    'F#7': 2959.96, 'G7': 3135.96, 'G#7': 3322.44, 'A7': 3520.00, 'A#7': 3729.31, 'B7': 3951.07,\n",
    "    'C8': 4186.01\n",
    "}\n",
    "\n",
    "fur_elise = (\n",
    "    'E5 D#5 E5 D#5 E5 B4 D5 C5 A4 '\n",
    "    'C4 E4 A4 B4 '\n",
    "    'E4 G#4 B4 C5 '\n",
    "    'E4 E5 D#5 E5 D#5 E5 B4 D5 C5 A4 '\n",
    "    'C4 E4 A4 B4 '\n",
    "    'E4 C5 B4 A4'\n",
    ")\n",
    "fur_elise_melody = [el.strip() for el in fur_elise.split(' ')]"
   ],
   "metadata": {
    "collapsed": false
   },
   "outputs": [],
   "execution_count": null
  },
  {
   "cell_type": "code",
   "source": [],
   "metadata": {
    "collapsed": false
   },
   "outputs": [],
   "execution_count": null
  },
  {
   "cell_type": "markdown",
   "source": [
    "Для тех кто заинтересовался отличный туториал по теории электронной музыки [https://learningsynths.ableton.com/en/get-started](https://learningsynths.ableton.com/en/get-started)\n"
   ],
   "metadata": {
    "collapsed": false
   }
  }
 ],
 "metadata": {
  "kernelspec": {
   "display_name": "Python 3",
   "language": "python",
   "name": "python3"
  },
  "language_info": {
   "codemirror_mode": {
    "name": "ipython",
    "version": 2
   },
   "file_extension": ".py",
   "mimetype": "text/x-python",
   "name": "python",
   "nbconvert_exporter": "python",
   "pygments_lexer": "ipython2",
   "version": "2.7.6"
  }
 },
 "nbformat": 4,
 "nbformat_minor": 0
}
